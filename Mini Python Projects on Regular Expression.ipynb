{
 "cells": [
  {
   "cell_type": "code",
   "execution_count": null,
   "id": "9ad01f6d",
   "metadata": {},
   "outputs": [],
   "source": [
    "################################################################################################################################"
   ]
  },
  {
   "cell_type": "markdown",
   "id": "e9c8141d",
   "metadata": {},
   "source": [
    "## Validate Email"
   ]
  },
  {
   "cell_type": "code",
   "execution_count": 87,
   "id": "84808731",
   "metadata": {},
   "outputs": [
    {
     "name": "stdout",
     "output_type": "stream",
     "text": [
      "Enter mailsmruti.po@gmail.com\n",
      "Given Email ID is correct\n"
     ]
    }
   ],
   "source": [
    "email_condition=r'\\b[a-z0-9._]{1,20}@[a-z]{2,19}[.][a-z.]+\\b'\n",
    "\n",
    "input_mail=input('Enter mail')\n",
    "\n",
    "if re.search(email_condition,input_mail):\n",
    "    print('Given Email ID is correct')\n",
    "    \n",
    "else:\n",
    "    print('Given Email ID is not correct')"
   ]
  },
  {
   "cell_type": "code",
   "execution_count": 86,
   "id": "3eab9b24",
   "metadata": {},
   "outputs": [
    {
     "name": "stdout",
     "output_type": "stream",
     "text": [
      "Enter mailAAsnfhrkj@hdhsj..co\n",
      "Given Email ID is not correct\n"
     ]
    }
   ],
   "source": [
    "email_condition=r'\\b[a-z0-9._]{1,20}@[a-z]{2,19}[.][a-z.]+\\b'\n",
    "\n",
    "input_mail=input('Enter mail')\n",
    "\n",
    "if re.search(email_condition,input_mail):\n",
    "    print('Given Email ID is correct')\n",
    "    \n",
    "else:\n",
    "    print('Given Email ID is not correct')"
   ]
  },
  {
   "cell_type": "code",
   "execution_count": null,
   "id": "430b12af",
   "metadata": {},
   "outputs": [],
   "source": [
    "################################################################################################################################"
   ]
  },
  {
   "cell_type": "markdown",
   "id": "d8e486be",
   "metadata": {},
   "source": [
    "## Extract PAN Card Details"
   ]
  },
  {
   "cell_type": "code",
   "execution_count": 91,
   "id": "0187b2ff",
   "metadata": {},
   "outputs": [
    {
     "name": "stdout",
     "output_type": "stream",
     "text": [
      "{'Date of Birth': ['16/07/1986'], 'Pan Number': ['BNZPM2501F'], 'PersonName': ['D MANIKANDAN']}\n"
     ]
    }
   ],
   "source": [
    "import re\n",
    "import pytesseract\n",
    "import pandas as pd\n",
    "\n",
    "\n",
    "\n",
    "pytesseract.pytesseract.tesseract_cmd = r\"C:\\Program Files\\Tesseract-OCR\\tesseract.exe\"\n",
    "text = pytesseract.image_to_string('DemoPan.jpg')\n",
    "#print(text)\n",
    "\n",
    "\n",
    "\n",
    "list_text=text.split('\\n')\n",
    "#print(list_text)\n",
    "def Pandetails(text1):\n",
    "    Name=''\n",
    "    for i, data in enumerate(list_text):\n",
    "    #print(i,data)\n",
    "        if re.search('INCOME TAX DEPARTMENT',data):\n",
    "            Name = list_text[i+1]\n",
    "            #print(Name)\n",
    "        \n",
    "        DOB = re.search(r'\\b[0-9]{2}[/][0-9]{2}[/][0-9]{4}\\b',text1).group()\n",
    "        PAN = re.search(r'\\b[A-Z]{5}[0-9]{4}[A-Z]\\b',text1).group()\n",
    "    \n",
    "    pand={'Date of Birth':[DOB],\n",
    "           'Pan Number':[PAN],\n",
    "           'PersonName':[Name]}\n",
    "            \n",
    "    return pand\n",
    "\n",
    "requireddetails=Pandetails(text)\n",
    "print(requireddetails)\n",
    "\n",
    "# df=pd.DataFrame(requireddetails)\n",
    "# print(df)"
   ]
  },
  {
   "cell_type": "code",
   "execution_count": 92,
   "id": "2416c85a",
   "metadata": {},
   "outputs": [
    {
     "name": "stdout",
     "output_type": "stream",
     "text": [
      "  Date of Birth  Pan Number    PersonName\n",
      "0    16/07/1986  BNZPM2501F  D MANIKANDAN\n"
     ]
    }
   ],
   "source": [
    "df=pd.DataFrame(requireddetails)\n",
    "print(df)"
   ]
  },
  {
   "cell_type": "code",
   "execution_count": null,
   "id": "fb2d0c91",
   "metadata": {},
   "outputs": [],
   "source": [
    "################################################################################################################################"
   ]
  },
  {
   "cell_type": "code",
   "execution_count": 104,
   "id": "eb4e1e01",
   "metadata": {},
   "outputs": [
    {
     "name": "stdout",
     "output_type": "stream",
     "text": [
      "{'Name': ['ATSHWARYA'], 'Date of Birth': ['04/11/1973'], 'Passport Number': ['F7802033'], 'Place of Birth': ['MANGALORE KARNATAKA']}\n",
      "        Name Date of Birth Passport Number       Place of Birth\n",
      "0  ATSHWARYA    04/11/1973        F7802033  MANGALORE KARNATAKA\n"
     ]
    }
   ],
   "source": [
    "pytesseract.pytesseract.tesseract_cmd = r\"C:\\Program Files\\Tesseract-OCR\\tesseract.exe\"\n",
    "data=pytesseract.image_to_string('aishwarya passport.jpg')\n",
    "#print(data)\n",
    "\n",
    "list_data=data.split('\\n')\n",
    "#print(list_data)\n",
    "\n",
    "def passport(data):\n",
    "    \n",
    "    Passportnum=re.search(r'\\b[A-Z][0-9]{7}\\b',data).group()\n",
    "    DOB=re.search(r'\\b[0-9]{2}[/][0-9]{2}[/][0-9]{4}\\b',data).group()\n",
    "    for i,line in enumerate(list_data):\n",
    "        if re.search(DOB,line):\n",
    "            Name=list_data[i-2]\n",
    "            birthplace=list_data[i+2]\n",
    "            \n",
    "    passportdetails={'Name':[Name],\n",
    "                     'Date of Birth':[DOB],\n",
    "                     'Passport Number':[Passportnum],\n",
    "                    'Place of Birth':[birthplace]}\n",
    "    \n",
    "    return passportdetails\n",
    "    \n",
    "Passportdetails=passport(data)\n",
    "print(Passportdetails)\n",
    "\n",
    "\n",
    "df=pd.DataFrame(Passportdetails)\n",
    "print(df)"
   ]
  },
  {
   "cell_type": "code",
   "execution_count": null,
   "id": "3049b9a4",
   "metadata": {},
   "outputs": [],
   "source": [
    "################################################################################################################################"
   ]
  },
  {
   "cell_type": "code",
   "execution_count": 112,
   "id": "78ca3448",
   "metadata": {},
   "outputs": [
    {
     "name": "stdout",
     "output_type": "stream",
     "text": [
      "{'Date of Birth': ['09/02/1976'], 'License Number': ['DL-0420110149646'], 'Name': [': ANURAG BREJA'], 'Address': ['HNO-178 A2/B MIG FLATS PASCHIM']}\n",
      "                                             0\n",
      "Date of Birth                       09/02/1976\n",
      "License Number                DL-0420110149646\n",
      "Name                            : ANURAG BREJA\n",
      "Address         HNO-178 A2/B MIG FLATS PASCHIM\n"
     ]
    }
   ],
   "source": [
    "pytesseract.pytesseract.tesseract_cmd = r\"C:\\Program Files\\Tesseract-OCR\\tesseract.exe\"\n",
    "data=pytesseract.image_to_string('driving license.jpg')\n",
    "#print(data)\n",
    "\n",
    "list_data=data.split('\\n')\n",
    "\n",
    "def license(data):\n",
    "    \n",
    "    DOB=re.search(r'\\b[0-9]{2}[/][0-9]{2}[/][0-9]{4}\\b',data).group()\n",
    "    Licensenum=re.search(r'\\b[A-Z]{2}[-][0-9]{13}\\b',data).group()\n",
    "    \n",
    "    for i,line in enumerate(list_data):\n",
    "        if re.search(Licensenum,line):\n",
    "            Name=list_data[i+1]\n",
    "            Address=list_data[i+8]\n",
    "            \n",
    "    licensedetails={'Date of Birth':[DOB],\n",
    "                   'License Number': [Licensenum],\n",
    "                   'Name':[Name],\n",
    "                   'Address':[Address]}\n",
    "    \n",
    "    return licensedetails\n",
    "\n",
    "\n",
    "License=license(data)\n",
    "print(License)\n",
    "\n",
    "df=pd.DataFrame(License).T\n",
    "print(df)"
   ]
  },
  {
   "cell_type": "code",
   "execution_count": null,
   "id": "477c86d2",
   "metadata": {},
   "outputs": [],
   "source": [
    "################################################################################################################################"
   ]
  }
 ],
 "metadata": {
  "kernelspec": {
   "display_name": "Python 3 (ipykernel)",
   "language": "python",
   "name": "python3"
  },
  "language_info": {
   "codemirror_mode": {
    "name": "ipython",
    "version": 3
   },
   "file_extension": ".py",
   "mimetype": "text/x-python",
   "name": "python",
   "nbconvert_exporter": "python",
   "pygments_lexer": "ipython3",
   "version": "3.11.5"
  }
 },
 "nbformat": 4,
 "nbformat_minor": 5
}
