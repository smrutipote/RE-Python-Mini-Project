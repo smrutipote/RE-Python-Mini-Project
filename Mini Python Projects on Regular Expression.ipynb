{
 "cells": [
  {
   "cell_type": "code",
   "execution_count": 82,
   "id": "266b51bc",
   "metadata": {},
   "outputs": [],
   "source": [
    "import re"
   ]
  },
  {
   "cell_type": "code",
   "execution_count": null,
   "id": "9ad01f6d",
   "metadata": {},
   "outputs": [],
   "source": [
    "################################################################################################################################"
   ]
  },
  {
   "cell_type": "markdown",
   "id": "57d1f56d",
   "metadata": {},
   "source": [
    "## Validate Email"
   ]
  },
  {
   "cell_type": "code",
   "execution_count": 87,
   "id": "84808731",
   "metadata": {},
   "outputs": [
    {
     "name": "stdout",
     "output_type": "stream",
     "text": [
      "Enter mailsmruti.po@gmail.com\n",
      "Given Email ID is correct\n"
     ]
    }
   ],
   "source": [
    "email_condition=r'\\b[a-z0-9._]{1,20}@[a-z]{2,19}[.][a-z.]+\\b'\n",
    "\n",
    "input_mail=input('Enter mail')\n",
    "\n",
    "if re.search(email_condition,input_mail):\n",
    "    print('Given Email ID is correct')\n",
    "    \n",
    "else:\n",
    "    print('Given Email ID is not correct')"
   ]
  },
  {
   "cell_type": "code",
   "execution_count": 86,
   "id": "3eab9b24",
   "metadata": {},
   "outputs": [
    {
     "name": "stdout",
     "output_type": "stream",
     "text": [
      "Enter mailAAsnfhrkj@hdhsj..co\n",
      "Given Email ID is not correct\n"
     ]
    }
   ],
   "source": [
    "email_condition=r'\\b[a-z0-9._]{1,20}@[a-z]{2,19}[.][a-z.]+\\b'\n",
    "\n",
    "input_mail=input('Enter mail')\n",
    "\n",
    "if re.search(email_condition,input_mail):\n",
    "    print('Given Email ID is correct')\n",
    "    \n",
    "else:\n",
    "    print('Given Email ID is not correct')"
   ]
  },
  {
   "cell_type": "code",
   "execution_count": null,
   "id": "430b12af",
   "metadata": {},
   "outputs": [],
   "source": [
    "################################################################################################################################"
   ]
  },
  {
   "cell_type": "markdown",
   "id": "3b7d63b0",
   "metadata": {},
   "source": [
    "## Extract PAN Card Details"
   ]
  },
  {
   "cell_type": "code",
   "execution_count": 91,
   "id": "0187b2ff",
   "metadata": {},
   "outputs": [
    {
     "name": "stdout",
     "output_type": "stream",
     "text": [
      "{'Date of Birth': ['16/07/1986'], 'Pan Number': ['BNZPM2501F'], 'PersonName': ['D MANIKANDAN']}\n"
     ]
    }
   ],
   "source": [
    "import re\n",
    "import pytesseract\n",
    "import pandas as pd\n",
    "\n",
    "\n",
    "\n",
    "pytesseract.pytesseract.tesseract_cmd = r\"C:\\Program Files\\Tesseract-OCR\\tesseract.exe\"\n",
    "text = pytesseract.image_to_string('DemoPan.jpg')\n",
    "#print(text)\n",
    "\n",
    "\n",
    "\n",
    "list_text=text.split('\\n')\n",
    "#print(list_text)\n",
    "def Pandetails(text1):\n",
    "    Name=''\n",
    "    for i, data in enumerate(list_text):\n",
    "    #print(i,data)\n",
    "        if re.search('INCOME TAX DEPARTMENT',data):\n",
    "            Name = list_text[i+1]\n",
    "            #print(Name)\n",
    "        \n",
    "        DOB = re.search(r'\\b[0-9]{2}[/][0-9]{2}[/][0-9]{4}\\b',text1).group()\n",
    "        PAN = re.search(r'\\b[A-Z]{5}[0-9]{4}[A-Z]\\b',text1).group()\n",
    "    \n",
    "    pand={'Date of Birth':[DOB],\n",
    "           'Pan Number':[PAN],\n",
    "           'PersonName':[Name]}\n",
    "            \n",
    "    return pand\n",
    "\n",
    "requireddetails=Pandetails(text)\n",
    "print(requireddetails)\n",
    "\n",
    "# df=pd.DataFrame(requireddetails)\n",
    "# print(df)"
   ]
  },
  {
   "cell_type": "code",
   "execution_count": 92,
   "id": "15988f49",
   "metadata": {},
   "outputs": [
    {
     "name": "stdout",
     "output_type": "stream",
     "text": [
      "  Date of Birth  Pan Number    PersonName\n",
      "0    16/07/1986  BNZPM2501F  D MANIKANDAN\n"
     ]
    }
   ],
   "source": [
    "df=pd.DataFrame(requireddetails)\n",
    "print(df)"
   ]
  },
  {
   "cell_type": "code",
   "execution_count": null,
   "id": "2403460e",
   "metadata": {},
   "outputs": [],
   "source": [
    "################################################################################################################################"
   ]
  }
 ],
 "metadata": {
  "kernelspec": {
   "display_name": "Python 3 (ipykernel)",
   "language": "python",
   "name": "python3"
  },
  "language_info": {
   "codemirror_mode": {
    "name": "ipython",
    "version": 3
   },
   "file_extension": ".py",
   "mimetype": "text/x-python",
   "name": "python",
   "nbconvert_exporter": "python",
   "pygments_lexer": "ipython3",
   "version": "3.11.5"
  }
 },
 "nbformat": 4,
 "nbformat_minor": 5
}
